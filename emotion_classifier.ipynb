{
 "cells": [
  {
   "cell_type": "code",
   "execution_count": 7,
   "metadata": {
    "collapsed": true
   },
   "outputs": [
    {
     "name": "stdout",
     "output_type": "stream",
     "text": [
      "Requirement already satisfied: voila in /opt/anaconda3/lib/python3.8/site-packages (0.2.3)\n",
      "Requirement already satisfied: nbclient<0.6,>=0.4.0 in /opt/anaconda3/lib/python3.8/site-packages (from voila) (0.5.0)\n",
      "Requirement already satisfied: jupyter-client<7,>=6.1.3 in /opt/anaconda3/lib/python3.8/site-packages (from voila) (6.1.6)\n",
      "Requirement already satisfied: jupyter-server<2.0.0,>=0.3.0 in /opt/anaconda3/lib/python3.8/site-packages (from voila) (1.0.1)\n",
      "Collecting nbconvert<7,>=6.0.0\n",
      "  Using cached nbconvert-6.0.6-py3-none-any.whl (551 kB)\n",
      "Requirement already satisfied: async-generator in /opt/anaconda3/lib/python3.8/site-packages (from nbclient<0.6,>=0.4.0->voila) (1.10)\n",
      "Requirement already satisfied: nbformat>=5.0 in /opt/anaconda3/lib/python3.8/site-packages (from nbclient<0.6,>=0.4.0->voila) (5.0.7)\n",
      "Requirement already satisfied: traitlets>=4.2 in /opt/anaconda3/lib/python3.8/site-packages (from nbclient<0.6,>=0.4.0->voila) (4.3.3)\n",
      "Requirement already satisfied: nest-asyncio in /opt/anaconda3/lib/python3.8/site-packages (from nbclient<0.6,>=0.4.0->voila) (1.4.0)\n",
      "Requirement already satisfied: tornado>=4.1 in /opt/anaconda3/lib/python3.8/site-packages (from jupyter-client<7,>=6.1.3->voila) (6.0.4)\n",
      "Requirement already satisfied: jupyter-core>=4.6.0 in /opt/anaconda3/lib/python3.8/site-packages (from jupyter-client<7,>=6.1.3->voila) (4.6.3)\n",
      "Requirement already satisfied: pyzmq>=13 in /opt/anaconda3/lib/python3.8/site-packages (from jupyter-client<7,>=6.1.3->voila) (19.0.1)\n",
      "Requirement already satisfied: python-dateutil>=2.1 in /opt/anaconda3/lib/python3.8/site-packages (from jupyter-client<7,>=6.1.3->voila) (2.8.1)\n",
      "Requirement already satisfied: ipython-genutils in /opt/anaconda3/lib/python3.8/site-packages (from jupyter-server<2.0.0,>=0.3.0->voila) (0.2.0)\n",
      "Requirement already satisfied: Send2Trash in /opt/anaconda3/lib/python3.8/site-packages (from jupyter-server<2.0.0,>=0.3.0->voila) (1.5.0)\n",
      "Requirement already satisfied: prometheus-client in /opt/anaconda3/lib/python3.8/site-packages (from jupyter-server<2.0.0,>=0.3.0->voila) (0.8.0)\n",
      "Requirement already satisfied: terminado>=0.8.3 in /opt/anaconda3/lib/python3.8/site-packages (from jupyter-server<2.0.0,>=0.3.0->voila) (0.8.3)\n",
      "Requirement already satisfied: jinja2 in /opt/anaconda3/lib/python3.8/site-packages (from jupyter-server<2.0.0,>=0.3.0->voila) (2.11.2)\n",
      "Requirement already satisfied: bleach in /opt/anaconda3/lib/python3.8/site-packages (from nbconvert<7,>=6.0.0->voila) (3.1.5)\n",
      "Requirement already satisfied: jupyterlab-pygments in /opt/anaconda3/lib/python3.8/site-packages (from nbconvert<7,>=6.0.0->voila) (0.1.1)\n",
      "Requirement already satisfied: testpath in /opt/anaconda3/lib/python3.8/site-packages (from nbconvert<7,>=6.0.0->voila) (0.4.4)\n",
      "Requirement already satisfied: defusedxml in /opt/anaconda3/lib/python3.8/site-packages (from nbconvert<7,>=6.0.0->voila) (0.6.0)\n",
      "Requirement already satisfied: mistune<2,>=0.8.1 in /opt/anaconda3/lib/python3.8/site-packages (from nbconvert<7,>=6.0.0->voila) (0.8.4)\n",
      "Requirement already satisfied: entrypoints>=0.2.2 in /opt/anaconda3/lib/python3.8/site-packages (from nbconvert<7,>=6.0.0->voila) (0.3)\n",
      "Requirement already satisfied: pandocfilters>=1.4.1 in /opt/anaconda3/lib/python3.8/site-packages (from nbconvert<7,>=6.0.0->voila) (1.4.2)\n",
      "Requirement already satisfied: pygments>=2.4.1 in /opt/anaconda3/lib/python3.8/site-packages (from nbconvert<7,>=6.0.0->voila) (2.6.1)\n",
      "Requirement already satisfied: jsonschema!=2.5.0,>=2.4 in /opt/anaconda3/lib/python3.8/site-packages (from nbformat>=5.0->nbclient<0.6,>=0.4.0->voila) (3.2.0)\n",
      "Requirement already satisfied: decorator in /opt/anaconda3/lib/python3.8/site-packages (from traitlets>=4.2->nbclient<0.6,>=0.4.0->voila) (4.4.2)\n",
      "Requirement already satisfied: six in /opt/anaconda3/lib/python3.8/site-packages (from traitlets>=4.2->nbclient<0.6,>=0.4.0->voila) (1.15.0)\n",
      "Requirement already satisfied: MarkupSafe>=0.23 in /opt/anaconda3/lib/python3.8/site-packages (from jinja2->jupyter-server<2.0.0,>=0.3.0->voila) (1.1.1)\n",
      "Requirement already satisfied: packaging in /opt/anaconda3/lib/python3.8/site-packages (from bleach->nbconvert<7,>=6.0.0->voila) (20.4)\n",
      "Requirement already satisfied: webencodings in /opt/anaconda3/lib/python3.8/site-packages (from bleach->nbconvert<7,>=6.0.0->voila) (0.5.1)\n",
      "Requirement already satisfied: setuptools in /opt/anaconda3/lib/python3.8/site-packages (from jsonschema!=2.5.0,>=2.4->nbformat>=5.0->nbclient<0.6,>=0.4.0->voila) (49.2.0.post20200714)\n",
      "Requirement already satisfied: pyrsistent>=0.14.0 in /opt/anaconda3/lib/python3.8/site-packages (from jsonschema!=2.5.0,>=2.4->nbformat>=5.0->nbclient<0.6,>=0.4.0->voila) (0.16.0)\n",
      "Requirement already satisfied: attrs>=17.4.0 in /opt/anaconda3/lib/python3.8/site-packages (from jsonschema!=2.5.0,>=2.4->nbformat>=5.0->nbclient<0.6,>=0.4.0->voila) (19.3.0)\n",
      "Requirement already satisfied: pyparsing>=2.0.2 in /opt/anaconda3/lib/python3.8/site-packages (from packaging->bleach->nbconvert<7,>=6.0.0->voila) (2.4.7)\n",
      "Installing collected packages: nbconvert\n",
      "  Attempting uninstall: nbconvert\n",
      "    Found existing installation: nbconvert 5.6.1\n",
      "    Uninstalling nbconvert-5.6.1:\n",
      "      Successfully uninstalled nbconvert-5.6.1\n",
      "\u001b[31mERROR: After October 2020 you may experience errors when installing or updating packages. This is because pip will change the way that it resolves dependency conflicts.\n",
      "\n",
      "We recommend you use --use-feature=2020-resolver to test your packages with the new resolver before it becomes the default.\n",
      "\n",
      "spyder 4.1.4 requires pyqt5<5.13; python_version >= \"3\", which is not installed.\n",
      "spyder 4.1.4 requires pyqtwebengine<5.13; python_version >= \"3\", which is not installed.\n",
      "nbdev 1.0.18 requires nbconvert<6, but you'll have nbconvert 6.0.6 which is incompatible.\u001b[0m\n",
      "Successfully installed nbconvert-6.0.6\n",
      "\u001b[33mWARNING: You are using pip version 20.2.2; however, version 20.2.3 is available.\n",
      "You should consider upgrading via the '/opt/anaconda3/bin/python -m pip install --upgrade pip' command.\u001b[0m\n",
      "Enabling: voila\n",
      "- Writing config: /opt/anaconda3/etc/jupyter\n",
      "    - Validating...\n",
      "      voila 0.2.3 \u001b[32mOK\u001b[0m\n"
     ]
    }
   ],
   "source": [
    "!pip install voila\n",
    "!jupyter serverextension enable voila --sys-prefix"
   ]
  },
  {
   "cell_type": "markdown",
   "metadata": {},
   "source": [
    "<h1> Emotion Detector </h1>"
   ]
  },
  {
   "cell_type": "markdown",
   "metadata": {},
   "source": [
    "<p> You can simply upload your image and wait to see what the model predicts.\n",
    "This application will tell emotion from the image. </p>"
   ]
  },
  {
   "cell_type": "code",
   "execution_count": 8,
   "metadata": {},
   "outputs": [],
   "source": [
    "from fastai.vision.all import *\n",
    "from fastai.vision.widgets import *"
   ]
  },
  {
   "cell_type": "code",
   "execution_count": 9,
   "metadata": {},
   "outputs": [],
   "source": [
    "path = Path()\n",
    "learn_inf = load_learner(path/'export.pkl', cpu=True)\n",
    "btn_upload = widgets.FileUpload()\n",
    "out_pl = widgets.Output()\n",
    "lbl_pred = widgets.Label()"
   ]
  },
  {
   "cell_type": "code",
   "execution_count": 10,
   "metadata": {},
   "outputs": [],
   "source": [
    "def on_click(change):\n",
    "    img = PILImage.create(btn_upload.data[-1])\n",
    "    out_pl.clear_output()\n",
    "    with out_pl: display(img.to_thumb(128,128))\n",
    "    pred,pred_idx,probs = learn_inf.predict(img)\n",
    "    lbl_pred.value = f'Prediction: {pred}; Probability: {probs[pred_idx]:.04f}'"
   ]
  },
  {
   "cell_type": "code",
   "execution_count": 11,
   "metadata": {},
   "outputs": [],
   "source": [
    "btn_upload.observe(on_click, names=['data'])\n"
   ]
  },
  {
   "cell_type": "code",
   "execution_count": 12,
   "metadata": {},
   "outputs": [
    {
     "data": {
      "application/vnd.jupyter.widget-view+json": {
       "model_id": "e90db33296aa4fd0b806d7a6470f8a2d",
       "version_major": 2,
       "version_minor": 0
      },
      "text/plain": [
       "VBox(children=(Label(value='Select a photo!'), FileUpload(value={}, description='Upload'), Output(), Label(val…"
      ]
     },
     "metadata": {},
     "output_type": "display_data"
    }
   ],
   "source": [
    "display(VBox([widgets.Label('Select a photo!'), btn_upload, out_pl, lbl_pred]))"
   ]
  }
 ],
 "metadata": {
  "kernelspec": {
   "display_name": "Python 3",
   "language": "python",
   "name": "python3"
  },
  "language_info": {
   "codemirror_mode": {
    "name": "ipython",
    "version": 3
   },
   "file_extension": ".py",
   "mimetype": "text/x-python",
   "name": "python",
   "nbconvert_exporter": "python",
   "pygments_lexer": "ipython3",
   "version": "3.8.3"
  }
 },
 "nbformat": 4,
 "nbformat_minor": 4
}
